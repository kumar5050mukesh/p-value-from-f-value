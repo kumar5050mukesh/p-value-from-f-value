{
 "cells": [
  {
   "cell_type": "code",
   "execution_count": null,
   "metadata": {},
   "outputs": [],
   "source": [
    "import numpy as np\n",
    "from scipy import stats\n",
    "\n",
    "# Define the sample variances and sample sizes\n",
    "s1_squared = 12\n",
    "s2_squared = 18\n",
    "n1 = 20\n",
    "n2 = 30\n",
    "\n",
    "# Calculate the F-ratio\n",
    "F = s2_squared / s1_squared\n",
    "\n",
    "# Calculate the degrees of freedom\n",
    "df1 = n2 - 1\n",
    "df2 = n1 - 1\n",
    "\n",
    "# Calculate the p-value using the F-distribution\n",
    "p_value = 1 - (stats.f.cdf(F, df1, df2))\n",
    "F_crit = f.ppf(0.95, df1, df2)\n",
    "\n",
    "# Print the results\n",
    "print(\"F-ratio:\", F)\n",
    "print(\"Degrees of freedom (df1, df2):\", df1, \",\", df2)\n",
    "print(\"p-value:\", p_value)\n",
    "print(\"F-CRITICAL\",F_crit)\n"
   ]
  }
 ],
 "metadata": {
  "language_info": {
   "name": "python"
  },
  "orig_nbformat": 4
 },
 "nbformat": 4,
 "nbformat_minor": 2
}
